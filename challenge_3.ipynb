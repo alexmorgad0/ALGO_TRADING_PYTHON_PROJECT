{
 "cells": [
  {
   "cell_type": "markdown",
   "id": "d96d2504",
   "metadata": {},
   "source": [
    "##  Challenge 3 – Strategy Optimization & Portfolio Selection\n",
    "\n",
    "In this challenge, we move beyond just analyzing historical returns — our goal is to **optimize a simple trading strategy** using moving averages, assess risk, and make final portfolio decisions based on performance and drawdowns.\n",
    "\n",
    "### Tasks:\n",
    "\n",
    "1. **Find the best SMA** for the top 5 selected stocks  \n",
    "   Backtest multiple SMA windows to determine which provides the most reliable trend-following signal.\n",
    "\n",
    "2. **Create a bias strategy**  \n",
    "   Define market bias using SMA crossovers or slope direction and execute trades based on that bias.\n",
    "\n",
    "3. **Compare drawdowns**  \n",
    "   Evaluate each stock's strategy by comparing **maximum drawdown**, **duration**, and **recovery** time.\n",
    "\n",
    "4. **Pick the best 3 stocks** for your portfolio  \n",
    "   Use performance and risk-adjusted metrics to finalize the best 3 candidates for long-term investing.\n"
   ]
  },
  {
   "cell_type": "markdown",
   "id": "677e1fff",
   "metadata": {},
   "source": [
    "##  Task 1: Find Best SMA Window"
   ]
  },
  {
   "cell_type": "markdown",
   "id": "004d850e",
   "metadata": {},
   "source": [
    "We test SMA windows from 10 to 200 days. For each:\n",
    "- Signal: **Buy when price > SMA**\n",
    "- Hold no position otherwise\n",
    "- Backtest using daily returns\n",
    "- Select the window with **highest cumulative return**\n",
    "\n",
    "This reveals the ideal SMA length for trend-following performance per stock.\n"
   ]
  },
  {
   "cell_type": "code",
   "execution_count": 67,
   "id": "286899f0",
   "metadata": {},
   "outputs": [],
   "source": [
    "import yfinance as yf\n",
    "import pandas as pd\n",
    "import numpy as np\n",
    "import matplotlib.pyplot as plt\n",
    "import seaborn as sns \n"
   ]
  },
  {
   "cell_type": "code",
   "execution_count": 2,
   "id": "cbb42b12",
   "metadata": {},
   "outputs": [
    {
     "name": "stderr",
     "output_type": "stream",
     "text": [
      "C:\\Users\\alexm\\AppData\\Local\\Temp\\ipykernel_37496\\1391946197.py:3: FutureWarning: YF.download() has changed argument auto_adjust default to True\n",
      "  stocks = yf.download(tickers)\n",
      "[*********************100%***********************]  5 of 5 completed\n"
     ]
    }
   ],
   "source": [
    "tickers = ['AAPL', 'HD', 'V', 'LMT', 'NEE']\n",
    "\n",
    "stocks = yf.download(tickers)"
   ]
  },
  {
   "cell_type": "code",
   "execution_count": 3,
   "id": "f142f30c",
   "metadata": {},
   "outputs": [
    {
     "data": {
      "text/html": [
       "<div>\n",
       "<style scoped>\n",
       "    .dataframe tbody tr th:only-of-type {\n",
       "        vertical-align: middle;\n",
       "    }\n",
       "\n",
       "    .dataframe tbody tr th {\n",
       "        vertical-align: top;\n",
       "    }\n",
       "\n",
       "    .dataframe thead th {\n",
       "        text-align: right;\n",
       "    }\n",
       "</style>\n",
       "<table border=\"1\" class=\"dataframe\">\n",
       "  <thead>\n",
       "    <tr style=\"text-align: right;\">\n",
       "      <th>Ticker</th>\n",
       "      <th>AAPL</th>\n",
       "      <th>HD</th>\n",
       "      <th>LMT</th>\n",
       "      <th>NEE</th>\n",
       "      <th>V</th>\n",
       "    </tr>\n",
       "    <tr>\n",
       "      <th>Date</th>\n",
       "      <th></th>\n",
       "      <th></th>\n",
       "      <th></th>\n",
       "      <th></th>\n",
       "      <th></th>\n",
       "    </tr>\n",
       "  </thead>\n",
       "  <tbody>\n",
       "    <tr>\n",
       "      <th>2008-03-19</th>\n",
       "      <td>3.897125</td>\n",
       "      <td>17.370304</td>\n",
       "      <td>59.418404</td>\n",
       "      <td>9.120476</td>\n",
       "      <td>12.514246</td>\n",
       "    </tr>\n",
       "    <tr>\n",
       "      <th>2008-03-20</th>\n",
       "      <td>4.005321</td>\n",
       "      <td>18.159857</td>\n",
       "      <td>59.028992</td>\n",
       "      <td>9.129474</td>\n",
       "      <td>14.252952</td>\n",
       "    </tr>\n",
       "    <tr>\n",
       "      <th>2008-03-24</th>\n",
       "      <td>4.193460</td>\n",
       "      <td>18.936472</td>\n",
       "      <td>59.459663</td>\n",
       "      <td>9.360448</td>\n",
       "      <td>13.229659</td>\n",
       "    </tr>\n",
       "    <tr>\n",
       "      <th>2008-03-25</th>\n",
       "      <td>4.237039</td>\n",
       "      <td>18.612885</td>\n",
       "      <td>60.179489</td>\n",
       "      <td>9.388947</td>\n",
       "      <td>14.009312</td>\n",
       "    </tr>\n",
       "    <tr>\n",
       "      <th>2008-03-26</th>\n",
       "      <td>4.359661</td>\n",
       "      <td>18.224577</td>\n",
       "      <td>59.725185</td>\n",
       "      <td>9.402444</td>\n",
       "      <td>14.166571</td>\n",
       "    </tr>\n",
       "    <tr>\n",
       "      <th>...</th>\n",
       "      <td>...</td>\n",
       "      <td>...</td>\n",
       "      <td>...</td>\n",
       "      <td>...</td>\n",
       "      <td>...</td>\n",
       "    </tr>\n",
       "    <tr>\n",
       "      <th>2025-06-18</th>\n",
       "      <td>196.580002</td>\n",
       "      <td>347.029999</td>\n",
       "      <td>468.600006</td>\n",
       "      <td>71.570000</td>\n",
       "      <td>340.380005</td>\n",
       "    </tr>\n",
       "    <tr>\n",
       "      <th>2025-06-20</th>\n",
       "      <td>201.000000</td>\n",
       "      <td>349.619995</td>\n",
       "      <td>470.559998</td>\n",
       "      <td>71.529999</td>\n",
       "      <td>338.570007</td>\n",
       "    </tr>\n",
       "    <tr>\n",
       "      <th>2025-06-23</th>\n",
       "      <td>201.500000</td>\n",
       "      <td>356.959991</td>\n",
       "      <td>472.459991</td>\n",
       "      <td>70.730003</td>\n",
       "      <td>343.750000</td>\n",
       "    </tr>\n",
       "    <tr>\n",
       "      <th>2025-06-24</th>\n",
       "      <td>200.300003</td>\n",
       "      <td>360.420013</td>\n",
       "      <td>460.200012</td>\n",
       "      <td>71.400002</td>\n",
       "      <td>351.630005</td>\n",
       "    </tr>\n",
       "    <tr>\n",
       "      <th>2025-06-25</th>\n",
       "      <td>201.559998</td>\n",
       "      <td>361.859985</td>\n",
       "      <td>458.390015</td>\n",
       "      <td>70.339996</td>\n",
       "      <td>345.260010</td>\n",
       "    </tr>\n",
       "  </tbody>\n",
       "</table>\n",
       "<p>4345 rows × 5 columns</p>\n",
       "</div>"
      ],
      "text/plain": [
       "Ticker            AAPL          HD         LMT        NEE           V\n",
       "Date                                                                 \n",
       "2008-03-19    3.897125   17.370304   59.418404   9.120476   12.514246\n",
       "2008-03-20    4.005321   18.159857   59.028992   9.129474   14.252952\n",
       "2008-03-24    4.193460   18.936472   59.459663   9.360448   13.229659\n",
       "2008-03-25    4.237039   18.612885   60.179489   9.388947   14.009312\n",
       "2008-03-26    4.359661   18.224577   59.725185   9.402444   14.166571\n",
       "...                ...         ...         ...        ...         ...\n",
       "2025-06-18  196.580002  347.029999  468.600006  71.570000  340.380005\n",
       "2025-06-20  201.000000  349.619995  470.559998  71.529999  338.570007\n",
       "2025-06-23  201.500000  356.959991  472.459991  70.730003  343.750000\n",
       "2025-06-24  200.300003  360.420013  460.200012  71.400002  351.630005\n",
       "2025-06-25  201.559998  361.859985  458.390015  70.339996  345.260010\n",
       "\n",
       "[4345 rows x 5 columns]"
      ]
     },
     "execution_count": 3,
     "metadata": {},
     "output_type": "execute_result"
    }
   ],
   "source": [
    "close = stocks.loc[:,'Close'].copy().dropna()\n",
    "close"
   ]
  },
  {
   "cell_type": "markdown",
   "id": "2ba60b0f",
   "metadata": {},
   "source": [
    "Function to determine the best SMA window for a single stock"
   ]
  },
  {
   "cell_type": "code",
   "execution_count": null,
   "id": "93ddebdb",
   "metadata": {},
   "outputs": [],
   "source": [
    "def find_best_sma_for_stock(close_series, sma_range=range(10, 201)): # This defines a stock's closing price series and tries SMA windowns from 10 to 201\n",
    "    returns = close_series.pct_change().dropna() # calculates daily returns for each stock\n",
    "    best_sma = None # initializes two variables to track the best SMA and its corresponding cumulative return \n",
    "    best_cum_return = -np.inf # ensures that any real return will be larger\n",
    "\n",
    "    for window in sma_range:\n",
    "        sma = close_series.rolling(window=window).mean() #calculates the sma for each window\n",
    "        signal = (close_series > sma).shift(1)\n",
    "        signal = signal.fillna(0).astype(int)\n",
    "        strategy_returns = signal * returns\n",
    "        cum_return = (1 + strategy_returns).prod()\n",
    "\n",
    "        if cum_return > best_cum_return:\n",
    "            best_cum_return = cum_return\n",
    "            best_sma = window\n",
    "\n",
    "    return best_sma, best_cum_return\n"
   ]
  },
  {
   "cell_type": "markdown",
   "id": "9fbe765a",
   "metadata": {},
   "source": [
    "Loop through each stock to find its optimal SMA and cumulative return"
   ]
  },
  {
   "cell_type": "code",
   "execution_count": 14,
   "id": "42cbcbea",
   "metadata": {},
   "outputs": [
    {
     "data": {
      "text/html": [
       "<div>\n",
       "<style scoped>\n",
       "    .dataframe tbody tr th:only-of-type {\n",
       "        vertical-align: middle;\n",
       "    }\n",
       "\n",
       "    .dataframe tbody tr th {\n",
       "        vertical-align: top;\n",
       "    }\n",
       "\n",
       "    .dataframe thead th {\n",
       "        text-align: right;\n",
       "    }\n",
       "</style>\n",
       "<table border=\"1\" class=\"dataframe\">\n",
       "  <thead>\n",
       "    <tr style=\"text-align: right;\">\n",
       "      <th></th>\n",
       "      <th>Best SMA</th>\n",
       "      <th>Cumulative Return</th>\n",
       "    </tr>\n",
       "  </thead>\n",
       "  <tbody>\n",
       "    <tr>\n",
       "      <th>AAPL</th>\n",
       "      <td>19.0</td>\n",
       "      <td>39.016735</td>\n",
       "    </tr>\n",
       "    <tr>\n",
       "      <th>HD</th>\n",
       "      <td>187.0</td>\n",
       "      <td>10.743589</td>\n",
       "    </tr>\n",
       "    <tr>\n",
       "      <th>LMT</th>\n",
       "      <td>91.0</td>\n",
       "      <td>3.745859</td>\n",
       "    </tr>\n",
       "    <tr>\n",
       "      <th>NEE</th>\n",
       "      <td>191.0</td>\n",
       "      <td>2.957151</td>\n",
       "    </tr>\n",
       "    <tr>\n",
       "      <th>V</th>\n",
       "      <td>200.0</td>\n",
       "      <td>6.465713</td>\n",
       "    </tr>\n",
       "  </tbody>\n",
       "</table>\n",
       "</div>"
      ],
      "text/plain": [
       "      Best SMA  Cumulative Return\n",
       "AAPL      19.0          39.016735\n",
       "HD       187.0          10.743589\n",
       "LMT       91.0           3.745859\n",
       "NEE      191.0           2.957151\n",
       "V        200.0           6.465713"
      ]
     },
     "execution_count": 14,
     "metadata": {},
     "output_type": "execute_result"
    }
   ],
   "source": [
    "best_smas = {}\n",
    "\n",
    "for ticker in close.columns:\n",
    "    best_sma, cum_ret = find_best_sma_for_stock(close[ticker])\n",
    "    best_smas[ticker] = {'Best SMA': best_sma, 'Cumulative Return': cum_ret}\n",
    "\n",
    "best_smas_df = pd.DataFrame(best_smas).T\n",
    "best_smas_df\n"
   ]
  },
  {
   "cell_type": "markdown",
   "id": "440c6502",
   "metadata": {},
   "source": [
    "Store results in a DataFrame"
   ]
  },
  {
   "cell_type": "markdown",
   "id": "28a36366",
   "metadata": {},
   "source": [
    "## Task 2: Apply Market Bias Using SMA Crossovers\n",
    "We define bullish bias using 50-day and 200-day SMAs.\n",
    "- Trade only when 50-SMA > 200-SMA\n"
   ]
  },
  {
   "cell_type": "code",
   "execution_count": 53,
   "id": "963ab0f8",
   "metadata": {},
   "outputs": [],
   "source": [
    "sma_s = 50\n",
    "sma_l = 200\n",
    "\n",
    "# Create two empty DataFrames to store the results\n",
    "sma_50_df = pd.DataFrame(index=close.index)\n",
    "sma_200_df = pd.DataFrame(index=close.index)\n",
    "\n",
    "# Loop over each stock\n",
    "for ticker in close.columns:\n",
    "    sma_50_df[ticker] = close[ticker].rolling(window=sma_s).mean()\n",
    "    sma_200_df[ticker] = close[ticker].rolling(window=sma_l).mean()\n"
   ]
  },
  {
   "cell_type": "code",
   "execution_count": 54,
   "id": "28026ad5",
   "metadata": {},
   "outputs": [],
   "source": [
    "sma_50_df.dropna(inplace=True)\n",
    "sma_200_df.dropna(inplace=True)"
   ]
  },
  {
   "cell_type": "markdown",
   "id": "0960dd83",
   "metadata": {},
   "source": [
    "Create binary position signals (1 = trade, 0 = no trade)"
   ]
  },
  {
   "cell_type": "code",
   "execution_count": 55,
   "id": "bada774f",
   "metadata": {},
   "outputs": [],
   "source": [
    "# Create a new DataFrame to store positions\n",
    "positions = pd.DataFrame(index=close.index)\n",
    "\n",
    "# Loop through each stock\n",
    "for ticker in close.columns:\n",
    "    sma_s = sma_50_df[ticker].reindex(close.index) #reindex makes sure we have the same index, in this case the same date\n",
    "    sma_l = sma_200_df[ticker].reindex(close.index) \n",
    "    \n",
    "    # Long (1) if short SMA > long SMA, otherwise stay out (0)\n",
    "    positions[ticker] = np.where(sma_s > sma_l, 1, 0)\n"
   ]
  },
  {
   "cell_type": "markdown",
   "id": "a44577ba",
   "metadata": {},
   "source": [
    "Calculate log returns for Buy & Hold and Strategy"
   ]
  },
  {
   "cell_type": "code",
   "execution_count": 56,
   "id": "6b8e2a08",
   "metadata": {},
   "outputs": [],
   "source": [
    "# Create empty DataFrames to store results\n",
    "returns_bh = pd.DataFrame(index=close.index)       # Buy & Hold log returns\n",
    "strategy_returns = pd.DataFrame(index=close.index) # Strategy returns (based on SMA bias)\n",
    "\n",
    "# Loop through each stock\n",
    "for ticker in close.columns:\n",
    "    # Log returns for Buy & Hold\n",
    "    returns_bh[ticker] = np.log(close[ticker] / close[ticker].shift(1))\n",
    "    \n",
    "    # Strategy returns based on shifted SMA bias signal\n",
    "    strategy_returns[ticker] = positions[ticker].shift(1) * returns_bh[ticker]"
   ]
  },
  {
   "cell_type": "markdown",
   "id": "2d5229cb",
   "metadata": {},
   "source": [
    "Evaluate cumulative return and volatility for each strategy"
   ]
  },
  {
   "cell_type": "code",
   "execution_count": 58,
   "id": "b73b2cca",
   "metadata": {},
   "outputs": [
    {
     "data": {
      "text/html": [
       "<div>\n",
       "<style scoped>\n",
       "    .dataframe tbody tr th:only-of-type {\n",
       "        vertical-align: middle;\n",
       "    }\n",
       "\n",
       "    .dataframe tbody tr th {\n",
       "        vertical-align: top;\n",
       "    }\n",
       "\n",
       "    .dataframe thead th {\n",
       "        text-align: right;\n",
       "    }\n",
       "</style>\n",
       "<table border=\"1\" class=\"dataframe\">\n",
       "  <thead>\n",
       "    <tr style=\"text-align: right;\">\n",
       "      <th></th>\n",
       "      <th>Buy &amp; Hold Cumulative Return</th>\n",
       "      <th>Strategy Cumulative Return</th>\n",
       "      <th>Buy &amp; Hold Volatility</th>\n",
       "      <th>Strategy Volatility</th>\n",
       "    </tr>\n",
       "    <tr>\n",
       "      <th>Ticker</th>\n",
       "      <th></th>\n",
       "      <th></th>\n",
       "      <th></th>\n",
       "      <th></th>\n",
       "    </tr>\n",
       "  </thead>\n",
       "  <tbody>\n",
       "    <tr>\n",
       "      <th>AAPL</th>\n",
       "      <td>21.613625</td>\n",
       "      <td>15.858418</td>\n",
       "      <td>0.308861</td>\n",
       "      <td>0.237311</td>\n",
       "    </tr>\n",
       "    <tr>\n",
       "      <th>HD</th>\n",
       "      <td>10.370103</td>\n",
       "      <td>2.855766</td>\n",
       "      <td>0.264148</td>\n",
       "      <td>0.201037</td>\n",
       "    </tr>\n",
       "    <tr>\n",
       "      <th>LMT</th>\n",
       "      <td>3.764627</td>\n",
       "      <td>2.004939</td>\n",
       "      <td>0.235543</td>\n",
       "      <td>0.172438</td>\n",
       "    </tr>\n",
       "    <tr>\n",
       "      <th>NEE</th>\n",
       "      <td>3.556962</td>\n",
       "      <td>1.964588</td>\n",
       "      <td>0.246806</td>\n",
       "      <td>0.182997</td>\n",
       "    </tr>\n",
       "    <tr>\n",
       "      <th>V</th>\n",
       "      <td>12.525864</td>\n",
       "      <td>8.667617</td>\n",
       "      <td>0.287260</td>\n",
       "      <td>0.212083</td>\n",
       "    </tr>\n",
       "  </tbody>\n",
       "</table>\n",
       "</div>"
      ],
      "text/plain": [
       "        Buy & Hold Cumulative Return  Strategy Cumulative Return  \\\n",
       "Ticker                                                             \n",
       "AAPL                       21.613625                   15.858418   \n",
       "HD                         10.370103                    2.855766   \n",
       "LMT                         3.764627                    2.004939   \n",
       "NEE                         3.556962                    1.964588   \n",
       "V                          12.525864                    8.667617   \n",
       "\n",
       "        Buy & Hold Volatility  Strategy Volatility  \n",
       "Ticker                                              \n",
       "AAPL                 0.308861             0.237311  \n",
       "HD                   0.264148             0.201037  \n",
       "LMT                  0.235543             0.172438  \n",
       "NEE                  0.246806             0.182997  \n",
       "V                    0.287260             0.212083  "
      ]
     },
     "execution_count": 58,
     "metadata": {},
     "output_type": "execute_result"
    }
   ],
   "source": [
    "import pandas as pd\n",
    "import numpy as np\n",
    "\n",
    "summary = []\n",
    "\n",
    "for ticker in close.columns:\n",
    "    bh = returns_bh[ticker].dropna()\n",
    "    strat = strategy_returns[ticker].dropna()\n",
    "\n",
    "    bh_cum = (1 + bh).prod() - 1\n",
    "    strat_cum = (1 + strat).prod() - 1\n",
    "\n",
    "    bh_vol = bh.std() * np.sqrt(252) # b&h standard deviation annual\n",
    "    strat_vol = strat.std() * np.sqrt(252)\n",
    "    \n",
    "    summary.append({\n",
    "        'Ticker': ticker,\n",
    "        'Buy & Hold Cumulative Return': bh_cum,\n",
    "        'Strategy Cumulative Return': strat_cum,\n",
    "        'Buy & Hold Volatility': bh_vol,\n",
    "        'Strategy Volatility': strat_vol,\n",
    "           })\n",
    "\n",
    "summary_df = pd.DataFrame(summary).set_index('Ticker')\n",
    "summary_df\n",
    "\n",
    "\n"
   ]
  },
  {
   "cell_type": "markdown",
   "id": "39214673",
   "metadata": {},
   "source": [
    "## Task 3: Drawdown Analysis\n",
    "Assess downside risk by calculating max drawdown for Buy & Hold and the Strategy.\n"
   ]
  },
  {
   "cell_type": "markdown",
   "id": "e21e2d0d",
   "metadata": {},
   "source": [
    "Calculate drawdowns for each strategy"
   ]
  },
  {
   "cell_type": "code",
   "execution_count": 63,
   "id": "dece2ce2",
   "metadata": {},
   "outputs": [
    {
     "data": {
      "text/html": [
       "<div>\n",
       "<style scoped>\n",
       "    .dataframe tbody tr th:only-of-type {\n",
       "        vertical-align: middle;\n",
       "    }\n",
       "\n",
       "    .dataframe tbody tr th {\n",
       "        vertical-align: top;\n",
       "    }\n",
       "\n",
       "    .dataframe thead th {\n",
       "        text-align: right;\n",
       "    }\n",
       "</style>\n",
       "<table border=\"1\" class=\"dataframe\">\n",
       "  <thead>\n",
       "    <tr style=\"text-align: right;\">\n",
       "      <th></th>\n",
       "      <th>Buy &amp; Hold Max Drawdown</th>\n",
       "      <th>Strategy Max Drawdown</th>\n",
       "    </tr>\n",
       "  </thead>\n",
       "  <tbody>\n",
       "    <tr>\n",
       "      <th>AAPL</th>\n",
       "      <td>0.887544</td>\n",
       "      <td>0.609041</td>\n",
       "    </tr>\n",
       "    <tr>\n",
       "      <th>HD</th>\n",
       "      <td>0.505480</td>\n",
       "      <td>0.477934</td>\n",
       "    </tr>\n",
       "    <tr>\n",
       "      <th>LMT</th>\n",
       "      <td>0.704570</td>\n",
       "      <td>0.488935</td>\n",
       "    </tr>\n",
       "    <tr>\n",
       "      <th>NEE</th>\n",
       "      <td>0.600116</td>\n",
       "      <td>0.440550</td>\n",
       "    </tr>\n",
       "    <tr>\n",
       "      <th>V</th>\n",
       "      <td>0.731985</td>\n",
       "      <td>0.452005</td>\n",
       "    </tr>\n",
       "  </tbody>\n",
       "</table>\n",
       "</div>"
      ],
      "text/plain": [
       "      Buy & Hold Max Drawdown  Strategy Max Drawdown\n",
       "AAPL                 0.887544               0.609041\n",
       "HD                   0.505480               0.477934\n",
       "LMT                  0.704570               0.488935\n",
       "NEE                  0.600116               0.440550\n",
       "V                    0.731985               0.452005"
      ]
     },
     "execution_count": 63,
     "metadata": {},
     "output_type": "execute_result"
    }
   ],
   "source": [
    "def calculate_drawdown(series):\n",
    "    cumulative = series.cumsum()\n",
    "    peak = cumulative.cummax()\n",
    "    drawdown = peak - cumulative\n",
    "    return drawdown\n",
    "\n",
    "# Create DataFrames to store drawdowns\n",
    "drawdown_bh = pd.DataFrame(index=returns_bh.index)\n",
    "drawdown_strategy = pd.DataFrame(index=strategy_returns.index)\n",
    "\n",
    "# Loop through each stock\n",
    "for ticker in close.columns:\n",
    "    drawdown_bh[ticker] = calculate_drawdown(returns_bh[ticker])\n",
    "    drawdown_strategy[ticker] = calculate_drawdown(strategy_returns[ticker])\n",
    "\n",
    "# Calculate maximum drawdown per stock\n",
    "max_dd_summary = pd.DataFrame({\n",
    "    'Buy & Hold Max Drawdown': drawdown_bh.max(),\n",
    "    'Strategy Max Drawdown': drawdown_strategy.max()\n",
    "})\n",
    "\n",
    "max_dd_summary\n"
   ]
  },
  {
   "cell_type": "markdown",
   "id": "c9cef3c7",
   "metadata": {},
   "source": [
    "## Task 4: Pick Best 3 Stocks\n",
    "We rank stocks based on Strategy Return / Strategy Max Drawdown."
   ]
  },
  {
   "cell_type": "code",
   "execution_count": 66,
   "id": "d35a420c",
   "metadata": {},
   "outputs": [
    {
     "name": "stdout",
     "output_type": "stream",
     "text": [
      "Top 3 Stocks Based on Strategy Return-to-Drawdown Ratio:\n",
      "Ticker\n",
      "AAPL    26.038333\n",
      "V       19.175917\n",
      "HD       5.975229\n",
      "dtype: float64\n"
     ]
    }
   ],
   "source": [
    "# Create a scoring metric: Return-to-Drawdown Ratio\n",
    "score = summary_df['Strategy Cumulative Return'] / max_dd_summary['Strategy Max Drawdown']\n",
    "\n",
    "# Get the top 3 tickers based on this metric\n",
    "top_3_stocks = score.sort_values(ascending=False).head(3)\n",
    "\n",
    "# Show the result\n",
    "print(\"Top 3 Stocks Based on Strategy Return-to-Drawdown Ratio:\")\n",
    "print(top_3_stocks)\n"
   ]
  }
 ],
 "metadata": {
  "kernelspec": {
   "display_name": ".venv",
   "language": "python",
   "name": "python3"
  },
  "language_info": {
   "codemirror_mode": {
    "name": "ipython",
    "version": 3
   },
   "file_extension": ".py",
   "mimetype": "text/x-python",
   "name": "python",
   "nbconvert_exporter": "python",
   "pygments_lexer": "ipython3",
   "version": "3.12.4"
  }
 },
 "nbformat": 4,
 "nbformat_minor": 5
}
